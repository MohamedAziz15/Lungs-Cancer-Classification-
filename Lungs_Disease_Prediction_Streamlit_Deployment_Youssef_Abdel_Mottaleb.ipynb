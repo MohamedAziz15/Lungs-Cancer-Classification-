{
 "cells": [
  {
   "cell_type": "code",
   "execution_count": 1,
   "id": "72880a39",
   "metadata": {},
   "outputs": [
    {
     "ename": "ModuleNotFoundError",
     "evalue": "No module named 'flask'",
     "output_type": "error",
     "traceback": [
      "\u001b[1;31m---------------------------------------------------------------------------\u001b[0m",
      "\u001b[1;31mModuleNotFoundError\u001b[0m                       Traceback (most recent call last)",
      "\u001b[1;32m~\\AppData\\Local\\Temp/ipykernel_25100/2409260820.py\u001b[0m in \u001b[0;36m<module>\u001b[1;34m\u001b[0m\n\u001b[1;32m----> 1\u001b[1;33m \u001b[1;32mfrom\u001b[0m \u001b[0mflask\u001b[0m \u001b[1;32mimport\u001b[0m \u001b[0mFlask\u001b[0m\u001b[1;33m,\u001b[0m\u001b[0mjsonify\u001b[0m\u001b[1;33m\u001b[0m\u001b[1;33m\u001b[0m\u001b[0m\n\u001b[0m\u001b[0;32m      2\u001b[0m \u001b[1;33m\u001b[0m\u001b[0m\n\u001b[0;32m      3\u001b[0m \u001b[0mapp\u001b[0m \u001b[1;33m=\u001b[0m \u001b[0mFlask\u001b[0m\u001b[1;33m(\u001b[0m\u001b[0m__name__\u001b[0m\u001b[1;33m)\u001b[0m\u001b[1;33m\u001b[0m\u001b[1;33m\u001b[0m\u001b[0m\n\u001b[0;32m      4\u001b[0m \u001b[1;33m\u001b[0m\u001b[0m\n\u001b[0;32m      5\u001b[0m \u001b[1;33m@\u001b[0m\u001b[0mapp\u001b[0m\u001b[1;33m.\u001b[0m\u001b[0mroute\u001b[0m\u001b[1;33m(\u001b[0m\u001b[1;34m\"/\"\u001b[0m\u001b[1;33m)\u001b[0m\u001b[1;33m\u001b[0m\u001b[1;33m\u001b[0m\u001b[0m\n",
      "\u001b[1;31mModuleNotFoundError\u001b[0m: No module named 'flask'"
     ]
    }
   ],
   "source": [
    "from flask import Flask,jsonify\n",
    "\n",
    "app = Flask(__name__)\n",
    "\n",
    "@app.route(\"/\")\n",
    "def home():\n",
    "    return\"Welcome\"\n",
    "@app.route(\"/get_data\")\n",
    "def getData():\n",
    "    jsonData = {\"name\":\"data\"}\n",
    "    return jsonify(jsonData)\n",
    "@app.route(\"/preprocess\")\n",
    "def preprocessData():\n",
    "    jsonData = {\"name\":\"preprocess\"}\n",
    "    return jsonify(jsonData)\n",
    "@app.route(\"/train\")\n",
    "def trainData():\n",
    "    jsonData = {\"name\":\"train\"}\n",
    "    return jsonify(jsonData)\n",
    "@app.route(\"/evaluate\")\n",
    "def evaluateData():\n",
    "    jsonData = {\"name\":\"evaluate\"}\n",
    "    return jsonify(jsonData)\n",
    "@app.route(\"/predict\")\n",
    "def predictData():\n",
    "    jsonData = {\"name\":\"predict\"}\n",
    "    return jsonify(jsonData)\n",
    "\n",
    "app.run()"
   ]
  },
  {
   "cell_type": "code",
   "execution_count": null,
   "id": "e1d13a22",
   "metadata": {},
   "outputs": [],
   "source": [
    "#  write in dataset file source\n"
   ]
  },
  {
   "cell_type": "code",
   "execution_count": null,
   "id": "a577d885",
   "metadata": {},
   "outputs": [],
   "source": [
    "rfst.predict([[]])"
   ]
  },
  {
   "cell_type": "code",
   "execution_count": null,
   "id": "2dad9abf",
   "metadata": {},
   "outputs": [],
   "source": [
    "import numpy as np\n",
    "Active_predict = np.array( [[ ]])\n",
    "Active_predict"
   ]
  },
  {
   "cell_type": "code",
   "execution_count": null,
   "id": "d5505bc0",
   "metadata": {},
   "outputs": [],
   "source": [
    "#  also write in dataset file source\n",
    "\n",
    "import pickle\n",
    "\n",
    "data = {\"model\": rfst}\n",
    "with open('Predict_model.pkl', 'wb') as file:\n",
    "    pickle.dump(data, file)\n",
    "    \n",
    "with open('Predict_model.pkl', 'rb') as file:\n",
    "    data = pickle.load(file)    \n",
    "    \n",
    "rfst_loaded = data[\"model\"]\n",
    "Card_predict = rfst_loaded.predict(Active_predict)\n",
    "Card_predict"
   ]
  },
  {
   "cell_type": "code",
   "execution_count": null,
   "id": "4bea36d7",
   "metadata": {},
   "outputs": [],
   "source": [
    "# write in app.py yaa 3aaak in vs code\n",
    "\n",
    "import streamlit\n",
    "from predict_page import show_predict_page\n",
    "show_predict_page()\n"
   ]
  },
  {
   "cell_type": "code",
   "execution_count": null,
   "id": "0420721d",
   "metadata": {},
   "outputs": [],
   "source": [
    "# write in predict_page.py ya 3aak in vs code\n",
    "\n",
    "import streamlit as st\n",
    "import pickle  \n",
    "import numpy as np\n",
    "\n",
    "def load_model():\n",
    "    with open('Predict_model.pkl', 'rb') as file:\n",
    "        data = pickle.load(file)  \n",
    "        rfst_loaded=data[\"model\"]  \n",
    "    return rfst_loaded\n",
    "\n",
    "Mode=load_model()\n",
    "\n",
    "\n",
    "def show_predict_page():\n",
    "    st.title(\"\"\"Lungs Cancer Recognition\"\"\")\n",
    "    st.write(\"\"\"We need some information to recognize the data\"\"\")\n",
    "    st.write(\"\"\"So please fill this form\"\"\")\n",
    "\n",
    "    age=st.number_input(\"Age\",step=1.,format=\"%.6f\")\n",
    "    st.write('The current Age is ', age)\n",
    "    gender=st.number_input(\"Gender\",step=1.,format=\"%.6f\")\n",
    "    st.write('Gender is ', gender)\n",
    "    airPollution=st.number_input(\"Air Pollution\",step=1.,format=\"%.6f\")\n",
    "    st.write('The Air Pollution is ', airPollution)\n",
    "    alcoholUse=st.number_input(\"Alcohol use\",step=1.,format=\"%.6f\")\n",
    "    st.write('The Alcohol use is ', alcoholUse)\n",
    "    dustAllergy=st.number_input(\"Dust Allergy\",step=1.,format=\"%.6f\")\n",
    "    st.write('The Dust Allergy is ', dustAllergy)\n",
    "    occuPationalHazards=st.number_input(\"OccuPational Hazards\",step=1.,format=\"%.6f\")\n",
    "    st.write('The OccuPational Hazards is ', occuPationalHazards)\n",
    "    geneticRisk=st.number_input(\"Genetic Risk\",step=1.,format=\"%.6f\")\n",
    "    st.write('The Genetic Risk is ', geneticRisk)\n",
    "    chronicLungDisease=st.number_input(\"chronic Lung Disease\",step=1.,format=\"%.6f\")\n",
    "    st.write('The chronic Lung Disease is ', chronicLungDisease)\n",
    "    balancedDiet=st.number_input(\"Balanced Diet\",step=1.,format=\"%.6f\")\n",
    "    st.write('The Balanced Diet is ', balancedDiet)\n",
    "    obesity=st.number_input(\"Obesity\",step=1.,format=\"%.6f\")\n",
    "    st.write('The Obesity is ', obesity)       \n",
    "    smoking=st.number_input(\"Smoking\",step=1.,format=\"%.6f\")\n",
    "    st.write('The Smoking is ', smoking)\n",
    "    passiveSmoker=st.number_input(\"Passive Smoker\",step=1.,format=\"%.6f\")\n",
    "    st.write('The Passive Smoker is ', passiveSmoker)\n",
    "    chestPain=st.number_input(\"Chest Pain\",step=1.,format=\"%.6f\")\n",
    "    st.write('The Chest Pain is ', chestPain)\n",
    "    coughingOfBlood=st.number_input(\"Coughing of Blood\",step=1.,format=\"%.6f\")\n",
    "    st.write('The Coughing of Blood is ', coughingOfBlood)\n",
    "    fatigue=st.number_input(\"Fatigue\",step=1.,format=\"%.6f\")\n",
    "    st.write('The Fatigue is ', fatigue)\n",
    "    weightLoss=st.number_input(\"Weight Loss\",step=1.,format=\"%.6f\")\n",
    "    st.write('The Weight Loss is ', weightLoss)\n",
    "    shortnessOfBreath=st.number_input(\"Shortness of Breath\",step=1.,format=\"%.6f\")\n",
    "    st.write('The Shortness of Breath is ', shortnessOfBreath)\n",
    "    wheezing=st.number_input(\"Wheezing\",step=1.,format=\"%.6f\")\n",
    "    st.write('The Wheezing is ', wheezing)\n",
    "    swallowingDifficulty=st.number_input(\"Swallowing Difficulty\",step=1.,format=\"%.6f\")\n",
    "    st.write('The Swallowing Difficulty is ', swallowingDifficulty)\n",
    "    clubbingOfFingerNails=st.number_input(\"Clubbing of Finger Nails\",step=1.,format=\"%.6f\")\n",
    "    st.write('The Clubbing of Finger Nails is ', clubbingOfFingerNails)\n",
    "    frequentCold=st.number_input(\"Frequent Cold\",step=1.,format=\"%.6f\")\n",
    "    st.write('The Frequent Cold is ', frequentCold)\n",
    "    dryCough=st.number_input(\"Dry Cough\",step=1.,format=\"%.6f\")\n",
    "    st.write('The Dry Cough is ', dryCough)\n",
    "    snoring=st.number_input(\"Snoring\",step=1.,format=\"%.6f\")\n",
    "    st.write('The Snoring is ', snoring)\n",
    "\n",
    "    ok=st.button(\"Predict\")\n",
    "    if ok:\n",
    "        X=[[age,gender,airPollution,alcoholUse,dustAllergy,occuPationalHazards,geneticRisk,chronicLungDisease,balancedDiet,obesity,smoking,passiveSmoker,chestPain,coughingOfBlood,fatigue,weightLoss,shortnessOfBreath,wheezing,swallowingDifficulty,clubbingOfFingerNails,frequentCold,dryCough,snoring]]\n",
    "        # mlp_loaded = data[\"model\"]\n",
    "        Prediction=Mode.predict(X)\n",
    "\n",
    "\n",
    "\n",
    "        st.subheader(f\"Prediction of the disease is {Prediction[0]}\")"
   ]
  },
  {
   "cell_type": "code",
   "execution_count": null,
   "id": "838183ca",
   "metadata": {},
   "outputs": [],
   "source": []
  },
  {
   "cell_type": "code",
   "execution_count": null,
   "id": "a354f868",
   "metadata": {},
   "outputs": [],
   "source": []
  },
  {
   "cell_type": "code",
   "execution_count": null,
   "id": "c93352f3",
   "metadata": {},
   "outputs": [],
   "source": []
  },
  {
   "cell_type": "code",
   "execution_count": null,
   "id": "c8d13c1b",
   "metadata": {},
   "outputs": [],
   "source": []
  },
  {
   "cell_type": "code",
   "execution_count": null,
   "id": "b9062668",
   "metadata": {},
   "outputs": [],
   "source": []
  },
  {
   "cell_type": "code",
   "execution_count": null,
   "id": "2205398a",
   "metadata": {},
   "outputs": [],
   "source": []
  },
  {
   "cell_type": "code",
   "execution_count": null,
   "id": "8b394cd5",
   "metadata": {},
   "outputs": [],
   "source": []
  }
 ],
 "metadata": {
  "kernelspec": {
   "display_name": "Python 3",
   "language": "python",
   "name": "python3"
  },
  "language_info": {
   "codemirror_mode": {
    "name": "ipython",
    "version": 3
   },
   "file_extension": ".py",
   "mimetype": "text/x-python",
   "name": "python",
   "nbconvert_exporter": "python",
   "pygments_lexer": "ipython3",
   "version": "3.7.8 (tags/v3.7.8:4b47a5b6ba, Jun 28 2020, 08:53:46) [MSC v.1916 64 bit (AMD64)]"
  },
  "vscode": {
   "interpreter": {
    "hash": "0a54084e6b208ee8d1ce3989ffc20924477a5f55f5a43e22e699a6741623861e"
   }
  }
 },
 "nbformat": 4,
 "nbformat_minor": 5
}
